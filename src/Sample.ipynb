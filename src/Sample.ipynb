{
 "cells": [
  {
   "cell_type": "code",
   "execution_count": 1,
   "id": "adcdc08e-702a-4c23-acfb-d9f8b9612915",
   "metadata": {},
   "outputs": [],
   "source": [
    "%reload_ext typedb_jupyter"
   ]
  },
  {
   "cell_type": "code",
   "execution_count": 2,
   "id": "c4b2cf02-baa2-4e71-86c3-824030318ee9",
   "metadata": {},
   "outputs": [
    {
     "name": "stdout",
     "output_type": "stream",
     "text": [
      "Available commands: connect, database, transaction, help\n",
      "--------------------------------------------------------------------------------\n",
      "Help for command 'connect':\n",
      "usage: connect [-h] [--tls-enabled]\n",
      "               {open,close,help} [{core,cluster}] [address] [username]\n",
      "               [password]\n",
      "\n",
      "Establishes the connection to TypeDB\n",
      "\n",
      "positional arguments:\n",
      "  {open,close,help}\n",
      "  {core,cluster}\n",
      "  address\n",
      "  username\n",
      "  password\n",
      "\n",
      "options:\n",
      "  -h, --help         show this help message and exit\n",
      "  --tls-enabled      Use for encrypted servers\n",
      "\n",
      "--------------------------------------------------------------------------------\n",
      "Help for command 'database':\n",
      "usage: database [-h] {create,recreate,list,delete,schema,help} [name]\n",
      "\n",
      "Database management\n",
      "\n",
      "positional arguments:\n",
      "  {create,recreate,list,delete,schema,help}\n",
      "  name\n",
      "\n",
      "options:\n",
      "  -h, --help            show this help message and exit\n",
      "\n",
      "--------------------------------------------------------------------------------\n",
      "Help for command 'transaction':\n",
      "usage: transaction [-h]\n",
      "                   {open,close,commit,rollback,help} [database]\n",
      "                   [{schema,write,read}]\n",
      "\n",
      "Opens or closes a transaction to a database on the active connection\n",
      "\n",
      "positional arguments:\n",
      "  {open,close,commit,rollback,help}\n",
      "  database              Only for 'open'\n",
      "  {schema,write,read}   Only for 'open'\n",
      "\n",
      "options:\n",
      "  -h, --help            show this help message and exit\n",
      "\n",
      "--------------------------------------------------------------------------------\n",
      "Help for command 'help':\n",
      "usage: help [-h]\n",
      "\n",
      "Shows this help description\n",
      "\n",
      "options:\n",
      "  -h, --help  show this help message and exit\n",
      "\n"
     ]
    }
   ],
   "source": [
    "%typedb help"
   ]
  },
  {
   "cell_type": "code",
   "execution_count": 3,
   "id": "994ca437-cbbc-4ac5-a953-a44e196a9512",
   "metadata": {},
   "outputs": [
    {
     "name": "stdout",
     "output_type": "stream",
     "text": [
      "Opened connection to: 127.0.0.1:1729\n"
     ]
    }
   ],
   "source": [
    "%typedb connect open core 127.0.0.1:1729 admin password"
   ]
  },
  {
   "cell_type": "code",
   "execution_count": 4,
   "id": "1ef0b8de-4e09-4588-bea7-f67fce0bfe95",
   "metadata": {},
   "outputs": [
    {
     "name": "stdout",
     "output_type": "stream",
     "text": [
      "Created database  typedb_jupyter_sample\n"
     ]
    }
   ],
   "source": [
    "%typedb database create typedb_jupyter_sample"
   ]
  },
  {
   "cell_type": "code",
   "execution_count": 5,
   "id": "2775578e-cbe6-498d-82c6-18d8d4c4f0c0",
   "metadata": {},
   "outputs": [
    {
     "name": "stdout",
     "output_type": "stream",
     "text": [
      "Databases:  tests, typedb_jupyter_sample, typedb_jupyter_graphs\n"
     ]
    }
   ],
   "source": [
    "%typedb database list"
   ]
  },
  {
   "cell_type": "code",
   "execution_count": 6,
   "id": "6415f8cf-34e7-42b8-9294-0113c584fc33",
   "metadata": {},
   "outputs": [
    {
     "name": "stdout",
     "output_type": "stream",
     "text": [
      "Deleted database  typedb_jupyter_sample\n"
     ]
    }
   ],
   "source": [
    "%typedb database delete typedb_jupyter_sample"
   ]
  },
  {
   "cell_type": "code",
   "execution_count": 7,
   "id": "85c80d7e-566b-4b92-9704-e27f68a58919",
   "metadata": {},
   "outputs": [
    {
     "name": "stdout",
     "output_type": "stream",
     "text": [
      "Databases:  tests, typedb_jupyter_graphs\n"
     ]
    }
   ],
   "source": [
    "%typedb database list"
   ]
  },
  {
   "cell_type": "code",
   "execution_count": 8,
   "id": "be17ff6a-8020-43a4-9611-2f5def7bab0d",
   "metadata": {},
   "outputs": [
    {
     "name": "stdout",
     "output_type": "stream",
     "text": [
      "Recreated database  typedb_jupyter_sample\n"
     ]
    }
   ],
   "source": [
    "%typedb database recreate typedb_jupyter_sample"
   ]
  },
  {
   "cell_type": "code",
   "execution_count": 9,
   "id": "0cd600f3-6f6d-4b03-b3ec-fcf9b593e4b0",
   "metadata": {},
   "outputs": [
    {
     "name": "stdout",
     "output_type": "stream",
     "text": [
      "Databases:  tests, typedb_jupyter_sample, typedb_jupyter_graphs\n"
     ]
    }
   ],
   "source": [
    "%typedb database list"
   ]
  },
  {
   "cell_type": "code",
   "execution_count": 10,
   "id": "bfeae364-194b-4478-b02d-2b29c1ede228",
   "metadata": {},
   "outputs": [
    {
     "name": "stdout",
     "output_type": "stream",
     "text": [
      "Opened schema transaction on database 'typedb_jupyter_sample'  \n"
     ]
    }
   ],
   "source": [
    "%typedb transaction open typedb_jupyter_sample schema"
   ]
  },
  {
   "cell_type": "code",
   "execution_count": 11,
   "id": "d3a65846-4d15-4376-bfb1-c3c921355aab",
   "metadata": {},
   "outputs": [
    {
     "name": "stdout",
     "output_type": "stream",
     "text": [
      "Query completed successfully! (No results to show)\n"
     ]
    },
    {
     "data": {
      "text/plain": [
       "'Stored result in variable: _typeql_result'"
      ]
     },
     "execution_count": 11,
     "metadata": {},
     "output_type": "execute_result"
    }
   ],
   "source": [
    "%%typeql \n",
    "define\n",
    "    attribute name, value string;\n",
    "    entity person, owns name;\n"
   ]
  },
  {
   "cell_type": "code",
   "execution_count": 12,
   "id": "76949fbe-c0fc-4973-ad3b-b0a60c3499d4",
   "metadata": {},
   "outputs": [
    {
     "name": "stdout",
     "output_type": "stream",
     "text": [
      "Transaction committed\n"
     ]
    }
   ],
   "source": [
    "%typedb transaction commit"
   ]
  },
  {
   "cell_type": "code",
   "execution_count": 13,
   "id": "2385b0db-a4b5-4b5e-b734-64ccc473780a",
   "metadata": {},
   "outputs": [
    {
     "name": "stdout",
     "output_type": "stream",
     "text": [
      "Opened write transaction on database 'typedb_jupyter_sample'  \n"
     ]
    }
   ],
   "source": [
    "%typedb transaction open typedb_jupyter_sample write"
   ]
  },
  {
   "cell_type": "code",
   "execution_count": 14,
   "id": "d3a6084f-0bda-4985-a6a5-be1e93d138be",
   "metadata": {},
   "outputs": [
    {
     "name": "stdout",
     "output_type": "stream",
     "text": [
      "Query returned 1 rows.\n"
     ]
    },
    {
     "data": {
      "text/html": [
       "<table><tr><th>p</th></tr><tr><td>Entity(person: 0x1e00000000000000000000)</td></tr></table>"
      ],
      "text/plain": [
       "<IPython.core.display.HTML object>"
      ]
     },
     "metadata": {},
     "output_type": "display_data"
    },
    {
     "data": {
      "text/plain": [
       "'Stored result in variable: _typeql_result'"
      ]
     },
     "execution_count": 14,
     "metadata": {},
     "output_type": "execute_result"
    }
   ],
   "source": [
    "%%typeql\n",
    "insert \n",
    "$p isa person, has name \"James\";"
   ]
  },
  {
   "cell_type": "code",
   "execution_count": 15,
   "id": "ea614f7f-c26f-4147-afb1-e1b0545744a3",
   "metadata": {},
   "outputs": [
    {
     "name": "stdout",
     "output_type": "stream",
     "text": [
      "Transaction committed\n"
     ]
    }
   ],
   "source": [
    "%typedb transaction commit"
   ]
  },
  {
   "cell_type": "code",
   "execution_count": 16,
   "id": "381ab58e-fc12-43cb-a3dc-7a4aeba68da3",
   "metadata": {},
   "outputs": [
    {
     "name": "stdout",
     "output_type": "stream",
     "text": [
      "Opened read transaction on database 'typedb_jupyter_sample'  \n"
     ]
    }
   ],
   "source": [
    "%typedb transaction open typedb_jupyter_sample read "
   ]
  },
  {
   "cell_type": "code",
   "execution_count": 17,
   "id": "dbc8419c-ca70-43d2-94d2-48553f3c3a20",
   "metadata": {},
   "outputs": [
    {
     "name": "stdout",
     "output_type": "stream",
     "text": [
      "Query returned 2 rows.\n"
     ]
    },
    {
     "data": {
      "text/html": [
       "<table><tr><th>instance</th><th>instance-type</th></tr><tr><td>Entity(person: 0x1e00000000000000000000)</td><td>EntityType(person)</td></tr><tr><td>Attribute(name: \"James\")</td><td>AttributeType(name)</td></tr></table>"
      ],
      "text/plain": [
       "<IPython.core.display.HTML object>"
      ]
     },
     "metadata": {},
     "output_type": "display_data"
    },
    {
     "data": {
      "text/plain": [
       "'Stored result in variable: _typeql_result'"
      ]
     },
     "execution_count": 17,
     "metadata": {},
     "output_type": "execute_result"
    }
   ],
   "source": [
    "%%typeql \n",
    "match $instance isa! $instance-type;"
   ]
  },
  {
   "cell_type": "code",
   "execution_count": 18,
   "id": "d987c302-a39c-4b79-9a0e-0259a35e09c6",
   "metadata": {},
   "outputs": [
    {
     "name": "stdout",
     "output_type": "stream",
     "text": [
      "[|  $instance: Entity(person: 0x1e00000000000000000000)  |  $instance-type: EntityType(person)  |, |  $instance: Attribute(name: \"James\")  |  $instance-type: AttributeType(name)  |]\n",
      "Attribute(name: \"James\")\n"
     ]
    }
   ],
   "source": [
    "print(_typeql_result)\n",
    "print(_typeql_result[1].get(\"instance\"))"
   ]
  },
  {
   "cell_type": "code",
   "execution_count": 19,
   "id": "ef9f8c8c-6a88-4530-813d-d45844ef3293",
   "metadata": {},
   "outputs": [
    {
     "name": "stdout",
     "output_type": "stream",
     "text": [
      "Query returned 1 documents.\n",
      "{\n",
      "  \"attributes\": {\n",
      "    \"name\": \"James\"\n",
      "  }\n",
      "}\n"
     ]
    },
    {
     "data": {
      "text/plain": [
       "'Stored result in variable: _typeql_result'"
      ]
     },
     "execution_count": 19,
     "metadata": {},
     "output_type": "execute_result"
    }
   ],
   "source": [
    "%%typeql \n",
    "match $owner isa! $owner_type; entity $owner_type;\n",
    "fetch {\n",
    "    \"attributes\": { $owner.* }\n",
    "};"
   ]
  },
  {
   "cell_type": "code",
   "execution_count": 20,
   "id": "9c48180e-84b5-4b0c-b2b6-3611640193d3",
   "metadata": {},
   "outputs": [
    {
     "name": "stdout",
     "output_type": "stream",
     "text": [
      "Transaction closed\n"
     ]
    }
   ],
   "source": [
    "%typedb transaction close"
   ]
  }
 ],
 "metadata": {
  "kernelspec": {
   "display_name": "Python 3 (ipykernel)",
   "language": "python",
   "name": "python3"
  },
  "language_info": {
   "codemirror_mode": {
    "name": "ipython",
    "version": 3
   },
   "file_extension": ".py",
   "mimetype": "text/x-python",
   "name": "python",
   "nbconvert_exporter": "python",
   "pygments_lexer": "ipython3",
   "version": "3.11.11"
  }
 },
 "nbformat": 4,
 "nbformat_minor": 5
}
